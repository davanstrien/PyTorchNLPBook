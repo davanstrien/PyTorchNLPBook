{
 "cells": [
  {
   "cell_type": "code",
   "execution_count": 2,
   "metadata": {},
   "outputs": [],
   "source": [
    "import torch \n",
    "import pandas as pd\n",
    "from torch.utils.data import Dataset"
   ]
  },
  {
   "cell_type": "code",
   "execution_count": 1,
   "metadata": {},
   "outputs": [],
   "source": [
    "from sklearn.model_selection import train_test_split"
   ]
  },
  {
   "cell_type": "code",
   "execution_count": null,
   "metadata": {},
   "outputs": [],
   "source": [
    "class ArticleDataset(Dataset):\n",
    "    def __init__(self, article_csv, vectorizer):\n",
    "        \"\"\"\n",
    "        Args:\n",
    "            df\n",
    "            vectorizer\n",
    "        \"\"\"\n",
    "        self.article_df = article_df\n",
    "        self.vectorizer = vectorizer\n",
    "        \n",
    "        self.train_df = train_df\n",
    "        self.valid_df = valid_df\n",
    "       \n",
    "        self.train_size = len(self.train_df)\n",
    "        self.valid_size = len(self.valid_df)\n",
    "        \n",
    "        @classmethod\n",
    "        def load_dataset_and_vectorize(cls, train_df, valid_df):\n",
    "            train_df = pd.read_csv(article_csv)\n",
    "        \n",
    "        def split(self, test_size=0.2):\n",
    "            train, test = train_test_split(df, test_size=0.2)\n",
    "        \n",
    "        def \n",
    "        "
   ]
  }
 ],
 "metadata": {
  "kernelspec": {
   "display_name": "Python 3",
   "language": "python",
   "name": "python3"
  },
  "language_info": {
   "codemirror_mode": {
    "name": "ipython",
    "version": 3
   },
   "file_extension": ".py",
   "mimetype": "text/x-python",
   "name": "python",
   "nbconvert_exporter": "python",
   "pygments_lexer": "ipython3",
   "version": "3.7.2"
  }
 },
 "nbformat": 4,
 "nbformat_minor": 2
}
