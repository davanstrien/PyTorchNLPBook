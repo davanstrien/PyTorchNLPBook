{
 "cells": [
  {
   "cell_type": "code",
   "execution_count": 19,
   "metadata": {},
   "outputs": [],
   "source": [
    "import pandas as pd\n",
    "import torch\n",
    "from pathlib import Path"
   ]
  },
  {
   "cell_type": "code",
   "execution_count": 29,
   "metadata": {},
   "outputs": [],
   "source": [
    "bs=12"
   ]
  },
  {
   "cell_type": "code",
   "execution_count": 30,
   "metadata": {},
   "outputs": [
    {
     "name": "stdout",
     "output_type": "stream",
     "text": [
      "dataset.csv\n"
     ]
    }
   ],
   "source": [
    "path = Path('data/')\n",
    "!ls {path}"
   ]
  },
  {
   "cell_type": "code",
   "execution_count": 24,
   "metadata": {},
   "outputs": [],
   "source": [
    "df = pd.read_csv(path/'dataset.csv')"
   ]
  },
  {
   "cell_type": "code",
   "execution_count": 25,
   "metadata": {},
   "outputs": [
    {
     "data": {
      "text/html": [
       "<div>\n",
       "<style scoped>\n",
       "    .dataframe tbody tr th:only-of-type {\n",
       "        vertical-align: middle;\n",
       "    }\n",
       "\n",
       "    .dataframe tbody tr th {\n",
       "        vertical-align: top;\n",
       "    }\n",
       "\n",
       "    .dataframe thead th {\n",
       "        text-align: right;\n",
       "    }\n",
       "</style>\n",
       "<table border=\"1\" class=\"dataframe\">\n",
       "  <thead>\n",
       "    <tr style=\"text-align: right;\">\n",
       "      <th></th>\n",
       "      <th>Unnamed: 0</th>\n",
       "      <th>articleContent</th>\n",
       "      <th>articleDate</th>\n",
       "      <th>articleTitle</th>\n",
       "      <th>newspaperTitle</th>\n",
       "      <th>label</th>\n",
       "    </tr>\n",
       "  </thead>\n",
       "  <tbody>\n",
       "    <tr>\n",
       "      <th>0</th>\n",
       "      <td>0</td>\n",
       "      <td>ULbs popuLA Lhas SUPSEI. THUESDAY, iARca 9, 18...</td>\n",
       "      <td>March 9th 1893, 00:00:00.000</td>\n",
       "      <td>In the House of Commons, yesterday, the Rating...</td>\n",
       "      <td>Liverpool Mercury</td>\n",
       "      <td>1</td>\n",
       "    </tr>\n",
       "    <tr>\n",
       "      <th>1</th>\n",
       "      <td>1</td>\n",
       "      <td>%.~ . It SALUS POPULI L&amp;Z SUFF3 fl D _ HURSDAY...</td>\n",
       "      <td>June 4th 1891, 00:00:00.000</td>\n",
       "      <td>In the House of Commons; yesterday, the commit...</td>\n",
       "      <td>Liverpool Mercury</td>\n",
       "      <td>1</td>\n",
       "    </tr>\n",
       "    <tr>\n",
       "      <th>2</th>\n",
       "      <td>2</td>\n",
       "      <td>6\"A FLYING-MACEfINE OF THE M OLDEN DAYS.- [Fao...</td>\n",
       "      <td>September 22nd 1899, 00:00:00.000</td>\n",
       "      <td>\"A FLYING-MACHINE OF THE OLDEN DAYS.\"</td>\n",
       "      <td>Liverpool Mercury</td>\n",
       "      <td>1</td>\n",
       "    </tr>\n",
       "    <tr>\n",
       "      <th>3</th>\n",
       "      <td>3</td>\n",
       "      <td>IEN GLISH MACHINERY IN FRANCE. The following p...</td>\n",
       "      <td>June 16th 1892, 00:00:00.000</td>\n",
       "      <td>ENGLISH MACHINERY IN FRANCE.</td>\n",
       "      <td>Liverpool Mercury</td>\n",
       "      <td>1</td>\n",
       "    </tr>\n",
       "    <tr>\n",
       "      <th>4</th>\n",
       "      <td>4</td>\n",
       "      <td>THE RATING OF MACHINERY. 5 - - c Y.esebrday af...</td>\n",
       "      <td>April 6th 1892, 00:00:00.000</td>\n",
       "      <td>THE RATING OF MACHINERY.</td>\n",
       "      <td>Liverpool Mercury</td>\n",
       "      <td>1</td>\n",
       "    </tr>\n",
       "  </tbody>\n",
       "</table>\n",
       "</div>"
      ],
      "text/plain": [
       "   Unnamed: 0                                     articleContent  \\\n",
       "0           0  ULbs popuLA Lhas SUPSEI. THUESDAY, iARca 9, 18...   \n",
       "1           1  %.~ . It SALUS POPULI L&Z SUFF3 fl D _ HURSDAY...   \n",
       "2           2  6\"A FLYING-MACEfINE OF THE M OLDEN DAYS.- [Fao...   \n",
       "3           3  IEN GLISH MACHINERY IN FRANCE. The following p...   \n",
       "4           4  THE RATING OF MACHINERY. 5 - - c Y.esebrday af...   \n",
       "\n",
       "                         articleDate  \\\n",
       "0       March 9th 1893, 00:00:00.000   \n",
       "1        June 4th 1891, 00:00:00.000   \n",
       "2  September 22nd 1899, 00:00:00.000   \n",
       "3       June 16th 1892, 00:00:00.000   \n",
       "4       April 6th 1892, 00:00:00.000   \n",
       "\n",
       "                                        articleTitle     newspaperTitle  label  \n",
       "0  In the House of Commons, yesterday, the Rating...  Liverpool Mercury      1  \n",
       "1  In the House of Commons; yesterday, the commit...  Liverpool Mercury      1  \n",
       "2              \"A FLYING-MACHINE OF THE OLDEN DAYS.\"  Liverpool Mercury      1  \n",
       "3                       ENGLISH MACHINERY IN FRANCE.  Liverpool Mercury      1  \n",
       "4                           THE RATING OF MACHINERY.  Liverpool Mercury      1  "
      ]
     },
     "execution_count": 25,
     "metadata": {},
     "output_type": "execute_result"
    }
   ],
   "source": [
    "df.head()"
   ]
  },
  {
   "cell_type": "code",
   "execution_count": 26,
   "metadata": {},
   "outputs": [
    {
     "name": "stdout",
     "output_type": "stream",
     "text": [
      "<class 'pandas.core.frame.DataFrame'>\n",
      "RangeIndex: 60 entries, 0 to 59\n",
      "Data columns (total 6 columns):\n",
      "Unnamed: 0        60 non-null int64\n",
      "articleContent    60 non-null object\n",
      "articleDate       60 non-null object\n",
      "articleTitle      60 non-null object\n",
      "newspaperTitle    60 non-null object\n",
      "label             60 non-null int64\n",
      "dtypes: int64(2), object(4)\n",
      "memory usage: 2.9+ KB\n"
     ]
    }
   ],
   "source": [
    "df.info()"
   ]
  },
  {
   "cell_type": "markdown",
   "metadata": {},
   "source": [
    "# split data"
   ]
  },
  {
   "cell_type": "code",
   "execution_count": 27,
   "metadata": {},
   "outputs": [],
   "source": [
    "from sklearn.model_selection import train_test_split\n",
    "\n",
    "train_df, valid_df = train_test_split(df, test_size=0.3)"
   ]
  },
  {
   "cell_type": "code",
   "execution_count": 31,
   "metadata": {},
   "outputs": [],
   "source": [
    "data_lm = TextLMDataBunch.from_df(path, train_df=df, valid_df=df, text_cols='articleTitle', bs=bs)# Classifier model data"
   ]
  },
  {
   "cell_type": "code",
   "execution_count": 33,
   "metadata": {},
   "outputs": [
    {
     "data": {
      "text/html": [
       "<table border=\"1\" class=\"dataframe\">\n",
       "  <thead>\n",
       "    <tr style=\"text-align: right;\">\n",
       "      <th>idx</th>\n",
       "      <th>text</th>\n",
       "    </tr>\n",
       "  </thead>\n",
       "  <tbody>\n",
       "    <tr>\n",
       "      <td>0</td>\n",
       "      <td>xxup xxunk . xxbos xxup the xxup rating xxup of xxup machinery . xxbos xxup xxunk xxup from xxup at xxup xxunk xxup xxunk xxup machine . xxbos xxup the xxup xxunk xxup xxunk xxup machinery . xxbos xxup the xxup machinery xxup xxunk xxup xxunk . xxbos xxup xxunk xxup machine xxup xxunk . xxbos xxup xxunk xxup xxunk xxunk xxup the xxup rating xxup of xxup machinery</td>\n",
       "    </tr>\n",
       "    <tr>\n",
       "      <td>1</td>\n",
       "      <td>xxup xxunk xxup xxunk xxunk xxup the xxup rating xxup of xxup machinery . xxbos xxup xxunk xxup xxunk xxup and xxup xxunk xxup machinery . xxbos xxup the xxup rating xxup of xxup machinery . xxbos xxup xxunk xxup the xxup machine . xxbos xxup machinery xxup on xxup xxunk xxup xxunk xxup xxunk . xxbos xxup xxunk xxup xxunk xxup xxunk xxup machinery . xxbos xxup xxunk</td>\n",
       "    </tr>\n",
       "    <tr>\n",
       "      <td>2</td>\n",
       "      <td>xxup xxunk xxup xxunk xxup xxunk xxup machinery . xxbos xxup xxunk xxup of xxup machinery xxup from xxup rating . xxbos xxup machinery \" xxup xxunk xxup xxunk . \" xxbos xxup rating xxup of xxup machinery . xxbos xxup xxunk xxup and xxup xxunk xxup xxunk . xxbos xxup xxunk xxup of xxup machinery . xxbos xxup xxunk xxup and xxup xxunk ' xxup flower xxup xxunk</td>\n",
       "    </tr>\n",
       "    <tr>\n",
       "      <td>3</td>\n",
       "      <td>. xxbos xxup xxunk xxup and xxup xxunk ' xxup flower xxup xxunk . xxbos xxup hawarden xxup flower xxup show xxbos xxup xxunk xxup on - xxup xxunk . xxbos xxup aughton xxup flower xxup and xxup poultry xxup show . xxbos xxup xxunk . xxup xxunk xxup at xxup hawarden xxup flower xxup show . xxbos xxup xxunk xxup flower xxup show xxup in xxup xxunk xxup</td>\n",
       "    </tr>\n",
       "    <tr>\n",
       "      <td>4</td>\n",
       "      <td>xxbos xxup xxunk xxup flower xxup show xxup in xxup xxunk xxup xxunk . xxbos xxup xxunk xxup xxunk ' xxup flower xxup show . xxbos xxup west xxup xxunk xxup flower xxup show . xxbos xxup xxunk xxup and xxup flower xxup show xxup at xxup hawarden . xxbos xxup gateacre xxup flower xxup show . xxbos xxup flower xxup show xxup at xxup gateacre . xxbos xxup</td>\n",
       "    </tr>\n",
       "  </tbody>\n",
       "</table>"
      ],
      "text/plain": [
       "<IPython.core.display.HTML object>"
      ]
     },
     "metadata": {},
     "output_type": "display_data"
    }
   ],
   "source": [
    "data_lm.show_batch()"
   ]
  },
  {
   "cell_type": "code",
   "execution_count": 36,
   "metadata": {},
   "outputs": [],
   "source": [
    "data_clas = TextClasDataBunch.from_df(path, train_df=train_df, valid_df=valid_df, text_cols=\"articleTitle\", label_cols='label', bs=bs)"
   ]
  },
  {
   "cell_type": "code",
   "execution_count": 37,
   "metadata": {},
   "outputs": [],
   "source": [
    "data_lm.save('data_lm_export.pkl')\n",
    "data_clas.save('data_clas_export.pkl')"
   ]
  },
  {
   "cell_type": "code",
   "execution_count": 38,
   "metadata": {},
   "outputs": [],
   "source": [
    "data_lm = load_data(path, 'data_lm_export.pkl')\n",
    "data_clas = load_data(path, 'data_clas_export.pkl', bs=bs)"
   ]
  },
  {
   "cell_type": "code",
   "execution_count": 39,
   "metadata": {},
   "outputs": [],
   "source": [
    "learn = language_model_learner(data_lm, AWD_LSTM, drop_mult=0.5)"
   ]
  },
  {
   "cell_type": "code",
   "execution_count": 40,
   "metadata": {},
   "outputs": [
    {
     "data": {
      "text/html": [],
      "text/plain": [
       "<IPython.core.display.HTML object>"
      ]
     },
     "metadata": {},
     "output_type": "display_data"
    },
    {
     "name": "stdout",
     "output_type": "stream",
     "text": [
      "LR Finder is complete, type {learner_name}.recorder.plot() to see the graph.\n"
     ]
    }
   ],
   "source": [
    "learn.lr_find()"
   ]
  },
  {
   "cell_type": "code",
   "execution_count": 41,
   "metadata": {},
   "outputs": [
    {
     "data": {
      "image/png": "[encoded data removed]",
      "text/plain": [
       "<Figure size 432x288 with 1 Axes>"
      ]
     },
     "metadata": {
      "needs_background": "light"
     },
     "output_type": "display_data"
    }
   ],
   "source": [
    "learn.recorder.plot()"
   ]
  },
  {
   "cell_type": "code",
   "execution_count": 42,
   "metadata": {},
   "outputs": [
    {
     "data": {
      "text/html": [
       "Total time: 00:00 <p><table border=\"1\" class=\"dataframe\">\n",
       "  <thead>\n",
       "    <tr style=\"text-align: left;\">\n",
       "      <th>epoch</th>\n",
       "      <th>train_loss</th>\n",
       "      <th>valid_loss</th>\n",
       "      <th>accuracy</th>\n",
       "      <th>time</th>\n",
       "    </tr>\n",
       "  </thead>\n",
       "  <tbody>\n",
       "    <tr>\n",
       "      <td>0</td>\n",
       "      <td>4.492246</td>\n",
       "      <td>3.948673</td>\n",
       "      <td>0.300223</td>\n",
       "      <td>00:00</td>\n",
       "    </tr>\n",
       "  </tbody>\n",
       "</table>"
      ],
      "text/plain": [
       "<IPython.core.display.HTML object>"
      ]
     },
     "metadata": {},
     "output_type": "display_data"
    }
   ],
   "source": [
    "learn.fit_one_cycle(1, 1e-01)"
   ]
  },
  {
   "cell_type": "code",
   "execution_count": 43,
   "metadata": {},
   "outputs": [],
   "source": [
    "learn.save_encoder('fine-tuned')"
   ]
  },
  {
   "cell_type": "code",
   "execution_count": 44,
   "metadata": {},
   "outputs": [],
   "source": [
    "data_clas = TextClasDataBunch.from_df(path, train_df=train_df, valid_df=valid_df, text_cols=\"articleTitle\", label_cols='label', bs=32, vocab=data_lm.train_ds.vocab,)\n"
   ]
  },
  {
   "cell_type": "code",
   "execution_count": 45,
   "metadata": {},
   "outputs": [],
   "source": [
    "learn = text_classifier_learner(data_clas, AWD_LSTM, drop_mult=0.5, metrics=accuracy)\n",
    "learn.load_encoder('fine-tuned')"
   ]
  },
  {
   "cell_type": "code",
   "execution_count": 46,
   "metadata": {},
   "outputs": [
    {
     "data": {
      "text/html": [
       "Total time: 00:00 <p><table border=\"1\" class=\"dataframe\">\n",
       "  <thead>\n",
       "    <tr style=\"text-align: left;\">\n",
       "      <th>epoch</th>\n",
       "      <th>train_loss</th>\n",
       "      <th>valid_loss</th>\n",
       "      <th>accuracy</th>\n",
       "      <th>time</th>\n",
       "    </tr>\n",
       "  </thead>\n",
       "  <tbody>\n",
       "    <tr>\n",
       "      <td>0</td>\n",
       "      <td>1.190485</td>\n",
       "      <td>1.104668</td>\n",
       "      <td>0.166667</td>\n",
       "      <td>00:00</td>\n",
       "    </tr>\n",
       "  </tbody>\n",
       "</table>"
      ],
      "text/plain": [
       "<IPython.core.display.HTML object>"
      ]
     },
     "metadata": {},
     "output_type": "display_data"
    }
   ],
   "source": [
    "learn.fit_one_cycle(1, 1e-04)"
   ]
  },
  {
   "cell_type": "code",
   "execution_count": 48,
   "metadata": {},
   "outputs": [],
   "source": [
    "learn.unfreeze()"
   ]
  },
  {
   "cell_type": "code",
   "execution_count": 49,
   "metadata": {},
   "outputs": [
    {
     "data": {
      "text/html": [
       "Total time: 00:01 <p><table border=\"1\" class=\"dataframe\">\n",
       "  <thead>\n",
       "    <tr style=\"text-align: left;\">\n",
       "      <th>epoch</th>\n",
       "      <th>train_loss</th>\n",
       "      <th>valid_loss</th>\n",
       "      <th>accuracy</th>\n",
       "      <th>time</th>\n",
       "    </tr>\n",
       "  </thead>\n",
       "  <tbody>\n",
       "    <tr>\n",
       "      <td>0</td>\n",
       "      <td>1.132427</td>\n",
       "      <td>1.104734</td>\n",
       "      <td>0.166667</td>\n",
       "      <td>00:00</td>\n",
       "    </tr>\n",
       "    <tr>\n",
       "      <td>1</td>\n",
       "      <td>1.164683</td>\n",
       "      <td>1.103954</td>\n",
       "      <td>0.166667</td>\n",
       "      <td>00:00</td>\n",
       "    </tr>\n",
       "    <tr>\n",
       "      <td>2</td>\n",
       "      <td>1.166487</td>\n",
       "      <td>1.103265</td>\n",
       "      <td>0.166667</td>\n",
       "      <td>00:00</td>\n",
       "    </tr>\n",
       "  </tbody>\n",
       "</table>"
      ],
      "text/plain": [
       "<IPython.core.display.HTML object>"
      ]
     },
     "metadata": {},
     "output_type": "display_data"
    }
   ],
   "source": [
    "learn.fit_one_cycle(3, 1e-04)"
   ]
  },
  {
   "cell_type": "code",
   "execution_count": null,
   "metadata": {},
   "outputs": [],
   "source": []
  }
 ],
 "metadata": {
  "kernelspec": {
   "display_name": "Python 3",
   "language": "python",
   "name": "python3"
  },
  "language_info": {
   "codemirror_mode": {
    "name": "ipython",
    "version": 3
   },
   "file_extension": ".py",
   "mimetype": "text/x-python",
   "name": "python",
   "nbconvert_exporter": "python",
   "pygments_lexer": "ipython3",
   "version": "3.7.2"
  }
 },
 "nbformat": 4,
 "nbformat_minor": 2
}
